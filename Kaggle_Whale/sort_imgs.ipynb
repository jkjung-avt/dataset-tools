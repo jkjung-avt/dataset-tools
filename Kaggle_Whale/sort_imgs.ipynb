{
 "cells": [
  {
   "cell_type": "markdown",
   "metadata": {},
   "source": [
    "This script was shared by \"inversion\" on Kaggle \"Right Whale Recognition\" discussion forum. It is supposed to be run from the 'Kaggle_Whale' directory.\n",
    "\n",
    "https://www.kaggle.com/c/noaa-right-whale-recognition/discussion/16275\n",
    "\n",
    "Before running the script, make sure all image files in the dataset have been extracted into the './imgs/' sub-folder. Also make sure 'train.csv' is located in current  directory. More specifically, execute the following shell commands to process files downloaded directly from Kaggle web site.\n",
    "\n",
    "```shell\n",
    "$ unzip imgs.zip\n",
    "$ unzip w_7489.jpg.zip\n",
    "$ mv w_7489.jpg imgs/\n",
    "$ unzip train.csv.zip\n",
    "```\n",
    "\n",
    "After running the script, the training images would be sorted into sub-folder named by whale ID in the csv, e.g. './imgs/w_7001.jpg' -> './imgs/whale_34663/w_7001.jpg."
   ]
  },
  {
   "cell_type": "code",
   "execution_count": 1,
   "metadata": {
    "collapsed": true
   },
   "outputs": [],
   "source": [
    "import os\n",
    "import pandas as pd\n",
    "\n",
    "train = pd.read_csv('train.csv', index_col='Image')\n",
    "\n",
    "whaleIDs = list(train['whaleID'].unique())\n",
    "\n",
    "for w in whaleIDs:\n",
    "    os.makedirs('./imgs/'+w)\n",
    "\n",
    "for image in train.index:\n",
    "    folder = train.loc[image, 'whaleID']\n",
    "    old = './imgs/{}'.format(image)\n",
    "    new = './imgs/{}/{}'.format(folder, image)\n",
    "    try:\n",
    "        os.rename(old, new)\n",
    "    except:\n",
    "        print('{} - {}'.format(image,folder))"
   ]
  },
  {
   "cell_type": "markdown",
   "metadata": {
    "collapsed": true
   },
   "source": [
    "Compare number of sorted images (jpg files) with number of labels in 'train.csv'."
   ]
  },
  {
   "cell_type": "code",
   "execution_count": 2,
   "metadata": {},
   "outputs": [
    {
     "name": "stdout",
     "output_type": "stream",
     "text": [
      "4544\n",
      "4544\n"
     ]
    }
   ],
   "source": [
    "!ls -1 ./imgs/*/*.jpg | wc -l\n",
    "!grep jpg train.csv | wc -l"
   ]
  },
  {
   "cell_type": "code",
   "execution_count": null,
   "metadata": {
    "collapsed": true
   },
   "outputs": [],
   "source": []
  }
 ],
 "metadata": {
  "kernelspec": {
   "display_name": "Python 2",
   "language": "python",
   "name": "python2"
  },
  "language_info": {
   "codemirror_mode": {
    "name": "ipython",
    "version": 2
   },
   "file_extension": ".py",
   "mimetype": "text/x-python",
   "name": "python",
   "nbconvert_exporter": "python",
   "pygments_lexer": "ipython2",
   "version": "2.7.12"
  }
 },
 "nbformat": 4,
 "nbformat_minor": 2
}
