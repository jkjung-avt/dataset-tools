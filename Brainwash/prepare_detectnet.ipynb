{
 "cells": [
  {
   "cell_type": "markdown",
   "metadata": {},
   "source": [
    "This script is used to process the \"brainwash\" (human head) dataset, and to create train/val data for DetectNet.\n",
    "\n",
    "I came accross this \"brainwash\" dataset when I was browsing Russell91's [TensorBox GitHub repository](https://github.com/Russell91/TensorBox). This dataset could be downloaded by:\n",
    "\n",
    "```shell\n",
    "$ wget --continue https://stacks.stanford.edu/file/druid:sx925dc9385/brainwash.tar.gz\n",
    "```\n",
    "\n",
    "This script assumes the dataset has been downloaded and extracted in the current directory. More specifically, in addition to the PNG files, there are also the annotation files, `train_boxes.json` and `val_boxes.json`, in the `brainwash` subdirectory.\n",
    "\n",
    "```shell\n",
    "$ tar xzvf brainwash_tiny.tar.gz\n",
    "......\n",
    "$ tree -d brainwash/\n",
    "brainwash/\n",
    "├── brainwash_10_27_2014_images\n",
    "├── brainwash_11_13_2014_images\n",
    "└── brainwash_11_24_2014_images\n",
    "```\n",
    "\n",
    "Here we do a quick check on the number of PNG files. (The number of labels actually don't match up with the number of PNG files...)"
   ]
  },
  {
   "cell_type": "code",
   "execution_count": 1,
   "metadata": {
    "collapsed": false
   },
   "outputs": [
    {
     "name": "stdout",
     "output_type": "stream",
     "text": [
      "353\n",
      "4047\n",
      "7518\n",
      "10769\n",
      "500\n",
      "500\n"
     ]
    }
   ],
   "source": [
    "!ls -1 ./brainwash/brainwash_10_27_2014_images/*.png | wc -l\n",
    "!ls -1 ./brainwash/brainwash_11_13_2014_images/*.png | wc -l\n",
    "!ls -1 ./brainwash/brainwash_11_24_2014_images/*.png | wc -l\n",
    "!grep png ./brainwash/train_boxes.json | wc -l\n",
    "!grep png ./brainwash/val_boxes.json | wc -l\n",
    "!grep png ./brainwash/test_boxes.json | wc -l"
   ]
  },
  {
   "cell_type": "markdown",
   "metadata": {},
   "source": [
    "Next, we try to do a histogram to check distribution of bounding box sizes.\n",
    "\n",
    "Ideally we want all bouding boxes in the range of [50,50] to [400,400] for DetectNet. But its is certainly not the case for this dataset..."
   ]
  },
  {
   "cell_type": "code",
   "execution_count": 2,
   "metadata": {
    "collapsed": true
   },
   "outputs": [],
   "source": [
    "from PIL import Image\n",
    "import os\n",
    "import json\n",
    "import random\n",
    "import shutil\n",
    "\n",
    "work_dir = './'\n",
    "box_widths  = []  # widths of the boudning boxes (as specified in the JSON files)\n",
    "box_heights = []  # heights of the boudning boxes (as specified in the JSON files)\n",
    "\n",
    "input_dir = work_dir + 'brainwash/'\n",
    "json_file = 'train_boxes_jk.json'\n",
    "\n",
    "# Read json\n",
    "with open(input_dir+json_file) as json_data:\n",
    "    d = json.load(json_data)\n",
    "    \n",
    "for i in range(len(d)):\n",
    "    fn =  str(d[i]['image_path'])\n",
    "    # Since all PNG images are 640x480, I omit the checking below.\n",
    "    #im = Image.open(os.path.join(input_dir,fn))\n",
    "    #print('{}: {}x{}'.format(fn,im.size[0],im.size[1]))\n",
    "    \n",
    "    # Check all bounding box widths and heights\n",
    "    for j in range(len(d[i]['rects'])):\n",
    "        w = d[i]['rects'][j]['x2'] - d[i]['rects'][j]['x1']\n",
    "        h = d[i]['rects'][j]['y2'] - d[i]['rects'][j]['y1']\n",
    "        box_widths.append(w)\n",
    "        box_heights.append(h)\n",
    "        # highlighting bounding boxes which might be too small\n",
    "        if w < 9 or h < 9:\n",
    "            print('{}: x1={}, x2={}, y1={}, y2={}'.format(fn,\n",
    "                  d[i]['rects'][j]['x1'], d[i]['rects'][j]['x2'],\n",
    "                  d[i]['rects'][j]['y1'], d[i]['rects'][j]['y2']))"
   ]
  },
  {
   "cell_type": "code",
   "execution_count": 3,
   "metadata": {
    "collapsed": false
   },
   "outputs": [
    {
     "data": {
      "image/png": "[encoded data removed]",
      "text/plain": [
       "<matplotlib.figure.Figure at 0x7fc027357ad0>"
      ]
     },
     "metadata": {},
     "output_type": "display_data"
    }
   ],
   "source": [
    "import numpy as np\n",
    "from matplotlib import pyplot as plt\n",
    "%matplotlib inline\n",
    "\n",
    "plt.figure(figsize=(8, 4))\n",
    "plt.subplot(1, 2, 1)\n",
    "plt.hist(np.array(box_widths))\n",
    "plt.title('box widths')\n",
    "plt.subplot(1, 2, 2)\n",
    "plt.hist(np.array(box_heights))\n",
    "plt.title('box heights')\n",
    "plt.tight_layout()\n",
    "plt.show()"
   ]
  },
  {
   "cell_type": "code",
   "execution_count": 4,
   "metadata": {
    "collapsed": false
   },
   "outputs": [
    {
     "name": "stdout",
     "output_type": "stream",
     "text": [
      "min/max bounding box widths  = 109.0 /  9.0\n",
      "min/max bounding box heights = 122.0 /  9.0\n"
     ]
    },
    {
     "data": {
      "image/png": "[encoded data removed]",
      "text/plain": [
       "<matplotlib.figure.Figure at 0x7fc023aebfd0>"
      ]
     },
     "metadata": {},
     "output_type": "display_data"
    }
   ],
   "source": [
    "print('min/max bounding box widths  = {0:4.1f} / {1:4.1f}'.format(\n",
    "    max(box_widths),min(box_widths)))\n",
    "print('min/max bounding box heights = {0:4.1f} / {1:4.1f}'.format(\n",
    "    max(box_heights),min(box_heights)))\n",
    "\n",
    "plt.figure(figsize=(5, 5))\n",
    "\n",
    "plt.subplot(1, 1, 1)\n",
    "plt.scatter(np.array(box_widths),np.array(box_heights))\n",
    "plt.title('bounding box widths/heights')\n",
    "plt.xlabel('width')\n",
    "plt.ylabel('height')\n",
    "\n",
    "plt.show()"
   ]
  },
  {
   "cell_type": "markdown",
   "metadata": {},
   "source": [
    "Create the output folders, and put files into them according to DetectNet formats.\n",
    "\n",
    "```\n",
    "detectnet_640x480/train/\n",
    "                  ├── images/\n",
    "                  │   └── brainwash_10_27_2014_images-00107000_640x480.png\n",
    "                  └── labels/\n",
    "                      └── brainwash_10_27_2014_images-00107000_640x480.txt\n",
    "detectnet_640x480/val/\n",
    "                  ├── images/\n",
    "                  │   └── brainwash_11_24_2014_images-00005000_640x480.png\n",
    "                  └── labels/\n",
    "                      └── brainwash_11_24_2014_images-00005000_640x480.txt\n",
    "```"
   ]
  },
  {
   "cell_type": "code",
   "execution_count": 5,
   "metadata": {
    "collapsed": true
   },
   "outputs": [],
   "source": [
    "# randomly pick 20% of images from the dataset as 'validation' data\n",
    "val_ratio = 0.2\n",
    "\n",
    "if os.path.exists(work_dir + 'detectnet_640x480/'):\n",
    "    shutil.rmtree(work_dir + 'detectnet_640x480/')\n",
    "os.makedirs(work_dir + 'detectnet_640x480/train/images/')\n",
    "os.makedirs(work_dir + 'detectnet_640x480/train/labels/')\n",
    "os.makedirs(work_dir + 'detectnet_640x480/val/images/')\n",
    "os.makedirs(work_dir + 'detectnet_640x480/val/labels/')"
   ]
  },
  {
   "cell_type": "code",
   "execution_count": 6,
   "metadata": {
    "collapsed": true
   },
   "outputs": [],
   "source": [
    "input_dir = work_dir + 'brainwash/'\n",
    "output_dir = work_dir + 'train_640x480/'\n",
    "json_file = 'train_boxes_jk.json'\n",
    "\n",
    "# Read json\n",
    "with open(input_dir+json_file) as json_data:\n",
    "    d = json.load(json_data)\n",
    "    \n",
    "for i in range(len(d)):\n",
    "    fn = str(d[i]['image_path'])\n",
    "    fn_out = fn.replace('/', '-')    \n",
    "    output_dir = work_dir + 'detectnet_640x480/train/'\n",
    "    if random.random() < val_ratio:\n",
    "        output_dir = work_dir + 'detectnet_640x480/val/'\n",
    "    \n",
    "    # Copy the image over\n",
    "    shutil.copy(input_dir+fn, output_dir+'images/'+fn_out)\n",
    "    fnbase, ext = os.path.splitext(fn_out)\n",
    "    # One Label file per one image\n",
    "    with open(output_dir+'labels/'+fnbase+'.txt', 'w') as fp:\n",
    "        # Convert annotations to required format\n",
    "        for j in range(len(d[i]['rects'])):\n",
    "            l = d[i]['rects'][j]['x1']\n",
    "            t = d[i]['rects'][j]['y1']\n",
    "            r = d[i]['rects'][j]['x2']\n",
    "            b = d[i]['rects'][j]['y2']\n",
    "            \n",
    "            type = 'Car'\n",
    "            truncated = 0\n",
    "            occluded  = 3\n",
    "            alpha  = 0\n",
    "            tail = '0 0 0 0 0 0 0 0'\n",
    "            \n",
    "            label = type + ' ' +            \\\n",
    "                    str(truncated) + ' ' +  \\\n",
    "                    str(occluded)  + ' ' +  \\\n",
    "                    str(alpha)     + ' ' +  \\\n",
    "                    str(l) + ' ' + str(t) + ' ' + str(r) + ' ' + str(b) + ' ' + tail\n",
    "            fp.write(label + '\\n')"
   ]
  },
  {
   "cell_type": "markdown",
   "metadata": {},
   "source": [
    "Verify total number of train/val images and lables."
   ]
  },
  {
   "cell_type": "code",
   "execution_count": 7,
   "metadata": {
    "collapsed": false
   },
   "outputs": [
    {
     "name": "stdout",
     "output_type": "stream",
     "text": [
      "8655\n",
      "8655\n",
      "2113\n",
      "2113\n"
     ]
    }
   ],
   "source": [
    "!find detectnet_640x480/train/ -name \"*.png\" | wc -l\n",
    "!find detectnet_640x480/train/ -name \"*.txt\" | wc -l\n",
    "!find detectnet_640x480/val/ -name \"*.png\" | wc -l\n",
    "!find detectnet_640x480/val/ -name \"*.txt\" | wc -l"
   ]
  },
  {
   "cell_type": "code",
   "execution_count": null,
   "metadata": {
    "collapsed": true
   },
   "outputs": [],
   "source": []
  }
 ],
 "metadata": {
  "kernelspec": {
   "display_name": "Python 3",
   "language": "python",
   "name": "python3"
  },
  "language_info": {
   "codemirror_mode": {
    "name": "ipython",
    "version": 3
   },
   "file_extension": ".py",
   "mimetype": "text/x-python",
   "name": "python",
   "nbconvert_exporter": "python",
   "pygments_lexer": "ipython3",
   "version": "3.5.2"
  }
 },
 "nbformat": 4,
 "nbformat_minor": 2
}
